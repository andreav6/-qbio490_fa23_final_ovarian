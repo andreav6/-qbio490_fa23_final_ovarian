{
 "cells": [
  {
   "cell_type": "markdown",
   "id": "fd51a416",
   "metadata": {},
   "source": [
    "# Importing packages and loading data"
   ]
  },
  {
   "cell_type": "code",
   "execution_count": 11,
   "id": "f9de99cf",
   "metadata": {},
   "outputs": [
    {
     "name": "stdout",
     "output_type": "stream",
     "text": [
      "                                            \r"
     ]
    },
    {
     "name": "stderr",
     "output_type": "stream",
     "text": [
      "cptac warning: Your version of cptac (1.1.2) is out-of-date. Latest is 1.5.7. Please run 'pip install --upgrade cptac' to update it. (/Users/andreavelazquez/anaconda3/lib/python3.11/threading.py, line 975)\n"
     ]
    },
    {
     "data": {
      "text/plain": [
       "True"
      ]
     },
     "execution_count": 11,
     "metadata": {},
     "output_type": "execute_result"
    }
   ],
   "source": [
    "#LOAD AND IMPORT PACKAGES AND DATA\n",
    "import numpy as np\n",
    "import pandas as pd\n",
    "import matplotlib.pyplot as plt\n",
    "import seaborn as sns\n",
    "import cptac\n",
    "import os\n",
    "\n",
    "os.chdir('/Users/andreavelazquez/Desktop/School stuff/QBIO490/qbio_490_AndreaV/analysis_data')\n",
    "cptac.download('Ovarian')"
   ]
  },
  {
   "cell_type": "code",
   "execution_count": 12,
   "id": "0f1d576b",
   "metadata": {},
   "outputs": [
    {
     "name": "stdout",
     "output_type": "stream",
     "text": [
      "                                            \r"
     ]
    }
   ],
   "source": [
    "#PULL DATA\n",
    "#clinical data\n",
    "ov= cptac.Ovarian()\n",
    "clinical_data= ov.get_clinical()\n",
    "\n",
    "#protein data\n",
    "protein_data= ov.get_proteomics()\n",
    "protein_data.columns = protein_data.columns.get_level_values(0) \n",
    "\n",
    "#transcriptomic data\n",
    "rna_data= ov.get_transcriptomics()"
   ]
  },
  {
   "cell_type": "markdown",
   "id": "6e7c9f67",
   "metadata": {},
   "source": [
    "# Data preprocessing"
   ]
  },
  {
   "cell_type": "code",
   "execution_count": 13,
   "id": "7b8893ad",
   "metadata": {},
   "outputs": [],
   "source": [
    "#CLEANUP\n",
    "#Change NaN values to 0 so we can get rid of them\n",
    "rna_data = rna_data.replace(0, np.nan)\n",
    "\n",
    "#Cleanup rna df\n",
    "gene_na_mask = rna_data.isna().sum() == 0\n",
    "rna_masked = rna_data.loc[:, gene_na_mask]\n",
    "#logscale\n",
    "rna_masked= np.log2(rna_masked)\n",
    "\n",
    "#Cleanup proteins df\n",
    "protein_na_mask = protein_data.isna().sum() == 0\n",
    "proteins_masked = protein_data.loc[:, protein_na_mask]\n"
   ]
  },
  {
   "cell_type": "markdown",
   "id": "e87b01bb",
   "metadata": {},
   "source": [
    "# Consolidating gene list"
   ]
  },
  {
   "cell_type": "code",
   "execution_count": 14,
   "id": "f0329404",
   "metadata": {},
   "outputs": [],
   "source": [
    "#GENE LIST FROM EXPLORATORY DATA ANALYSIS WITH TCGA DATA IN R\n",
    "top53_R= ['TP53', 'TTN', 'CSMD3', 'USH2A', 'NF1', 'RYR2', \n",
    "          'MUC16', 'HMCN1', 'FAT3', 'FLG2', 'MACF1', 'SI', \n",
    "          'AHNAK', 'MUC17', 'APOB', 'FLG', 'DNAH3', 'LRP1B', \n",
    "          'CDK12', 'DST', 'DNAH5', 'LRP1', 'BRCA1', 'SYNE2', \n",
    "          'FCGBP', 'SYNE1', 'TG', 'TOP2A', 'DNAH10', 'RB1',\n",
    "          'RELN', 'COL6A3', 'DNAH8', 'MDN1', 'ADGRV1', 'HUWE1', \n",
    "          'MYH4', 'KMT2C', 'TENM1', 'TACC2', 'DYNC1H1', 'PKHD1', \n",
    "          'NEB', 'RYR1', 'LRP2', 'CSMD1', 'DMD', 'IGSF10', \n",
    "          'LRRK2', 'ZFHX4', 'MYH1', 'KMT2A', 'VPS13B' ]"
   ]
  },
  {
   "cell_type": "code",
   "execution_count": 15,
   "id": "561dc408",
   "metadata": {},
   "outputs": [],
   "source": [
    "#GENE LIST FROM LITERATURE REVIEW\n",
    "lit_genes= ['CLDN3', 'CLDN4', 'HE4', 'CRIP1', 'APOE', \n",
    "            'APOJ', 'HLA-DRA', 'HLA-DRB', 'MUC1', 'BCAM', \n",
    "            'BUB1B', 'BUB1', 'TTK', 'CCNB1', 'BRCA1', \n",
    "            'BRCA2', 'CSMD3', 'MUCI16', 'APOB', 'DST', \n",
    "            'FAT3', 'HMCN1', 'RYR1','TP53','TTN', \n",
    "            'USH2A', 'AKT1', 'ARID1A', 'FBXW7', 'FGFR2', \n",
    "            'JAK1', 'KRAS', 'MLH1', 'MSH2', 'MSH6', \n",
    "            'NRAS', 'PIK3CA', 'PIK3R1', 'PIK3R2', 'PMS2', \n",
    "            'POLE', 'PPP2R1A', 'PTEN', 'RNF43', 'RPL22', \n",
    "            'SMARCA4', 'STK11', 'SPOP', 'FOXL2', 'CTNNB1', \n",
    "            'BRAF']"
   ]
  },
  {
   "cell_type": "code",
   "execution_count": 16,
   "id": "2dedd9a7",
   "metadata": {},
   "outputs": [
    {
     "name": "stdout",
     "output_type": "stream",
     "text": [
      "CLDN3  added to new list\n",
      "CLDN4  added to new list\n",
      "HE4  added to new list\n",
      "CRIP1  added to new list\n",
      "APOE  added to new list\n",
      "APOJ  added to new list\n",
      "HLA-DRA  added to new list\n",
      "HLA-DRB  added to new list\n",
      "MUC1  added to new list\n",
      "BCAM  added to new list\n",
      "BUB1B  added to new list\n",
      "BUB1  added to new list\n",
      "TTK  added to new list\n",
      "CCNB1  added to new list\n",
      "BRCA2  added to new list\n",
      "MUCI16  added to new list\n",
      "AKT1  added to new list\n",
      "ARID1A  added to new list\n",
      "FBXW7  added to new list\n",
      "FGFR2  added to new list\n",
      "JAK1  added to new list\n",
      "KRAS  added to new list\n",
      "MLH1  added to new list\n",
      "MSH2  added to new list\n",
      "MSH6  added to new list\n",
      "NRAS  added to new list\n",
      "PIK3CA  added to new list\n",
      "PIK3R1  added to new list\n",
      "PIK3R2  added to new list\n",
      "PMS2  added to new list\n",
      "POLE  added to new list\n",
      "PPP2R1A  added to new list\n",
      "PTEN  added to new list\n",
      "RNF43  added to new list\n",
      "RPL22  added to new list\n",
      "SMARCA4  added to new list\n",
      "STK11  added to new list\n",
      "SPOP  added to new list\n",
      "FOXL2  added to new list\n",
      "CTNNB1  added to new list\n",
      "BRAF  added to new list\n"
     ]
    }
   ],
   "source": [
    "#Combine both lists into one without duplicates\n",
    "final_list= join_lists(top53_R, lit_genes)"
   ]
  },
  {
   "cell_type": "code",
   "execution_count": 25,
   "id": "ed5d86b4",
   "metadata": {},
   "outputs": [
    {
     "name": "stdout",
     "output_type": "stream",
     "text": [
      "Not in either df:  ['CSMD3', 'USH2A', 'FAT3', 'FLG2', 'SI', 'MUC17', 'FLG', 'DNAH3', 'DNAH5', 'BRCA1', 'TG', 'DNAH10', 'RELN', 'DNAH8', 'ADGRV1', 'TENM1', 'PKHD1', 'RYR1', 'CSMD1', 'IGSF10', 'HE4', 'APOJ', 'HLA-DRB', 'BUB1B', 'BUB1', 'BRCA2', 'MUCI16', 'PMS2', 'RNF43', 'SPOP', 'FOXL2']\n"
     ]
    }
   ],
   "source": [
    "#CHECK WE HAVE INFO FOR THOSE GENES (CHECK THEY ARE IN DFs)\n",
    "#inDF function for proteomic data \n",
    "in_proteins_df= inDF(final_list, proteins_masked)\n",
    "\n",
    "#make copy of list to use as parameter for search in the rna df\n",
    "not_in_proteins= in_proteins_df[1].copy()\n",
    "\n",
    "#search for the remaining ones in transcriptomic data\n",
    "in_rna_df= inDF(not_in_proteins, rna_masked)\n",
    "\n",
    "#save list of genes not found in proteomic nor transcriptomic data \n",
    "#for future reference\n",
    "not_in_either= in_rna_df[1].copy()\n",
    "print(\"Not in either df: \", not_in_either)"
   ]
  },
  {
   "cell_type": "code",
   "execution_count": 24,
   "id": "dfe2142d",
   "metadata": {},
   "outputs": [],
   "source": [
    "#ENSURE WE HAVE DATA FOR SPECIFIC GENES IN A GIVEN DF \n",
    "# =====inDF function=====\n",
    "#output produces 2 lists:\n",
    "#     -1st element[0]=is in df, \n",
    "#     -2nd element[1]=not in df\n",
    "#========================\n",
    "def inDF(genes, df):\n",
    "    results=[]\n",
    "    final=[]\n",
    "    no_info=[]\n",
    "    \n",
    "    for i in range(len(genes)):\n",
    "        #see if gene exists in df columns \n",
    "        exists= genes[i] in df.columns\n",
    "        \n",
    "        #gene doesn't exist, need to add it to our noinfo list\n",
    "        if exists == 0:\n",
    "            no_info.append(genes[i])\n",
    "        #or it exists so it makes it to our final list of relevant genes\n",
    "        else:\n",
    "            final.append(genes[i])\n",
    "    \n",
    "    #finally, we add both lists to our output list\n",
    "    results.append(final)\n",
    "    results.append(no_info)\n",
    "    \n",
    "    return results"
   ]
  },
  {
   "cell_type": "code",
   "execution_count": 26,
   "id": "068e7522",
   "metadata": {},
   "outputs": [],
   "source": [
    "#JOIN TWO LISTS, WITHOUT DUPLICATES\n",
    "# =====join_lists function=====\n",
    "#newlist= unique in both\n",
    "#==============================\n",
    "#list2= smaller list! for better runtime \n",
    "#(i.e. list1 being of higher magnitude than list2 in the # of genes)\n",
    "#like looking for 3 specific genes in 1000 genes, and so on\n",
    "def join_lists(list1, list2):\n",
    "    #make copy of first list to use as starting point\n",
    "    joint= list1.copy()\n",
    "    \n",
    "    #go through each gene from list2\n",
    "    for i in range(len(list2)):\n",
    "        #see if it exists in our joint list\n",
    "        exist= joint.count(list2[i])\n",
    "        \n",
    "        #if it exists, ignore it and go onto next iteration\n",
    "        if exist!=0:\n",
    "            continue\n",
    "            \n",
    "        #if not, print a statement and add it to the joint list\n",
    "        print(list2[i], \" added to new list\")\n",
    "        joint.append(list2[i])\n",
    "    \n",
    "    #return list without duplicates \n",
    "    return joint"
   ]
  },
  {
   "cell_type": "markdown",
   "id": "73e3aba4",
   "metadata": {},
   "source": [
    "# Making new df w/ genes we will use in our model"
   ]
  },
  {
   "cell_type": "code",
   "execution_count": 38,
   "id": "0eb6e23b",
   "metadata": {},
   "outputs": [],
   "source": [
    "#LOAD PACKAGES\n",
    "from sklearn.preprocessing import StandardScaler"
   ]
  },
  {
   "cell_type": "code",
   "execution_count": 37,
   "id": "4948adc8",
   "metadata": {},
   "outputs": [
    {
     "data": {
      "text/html": [
       "<div>\n",
       "<style scoped>\n",
       "    .dataframe tbody tr th:only-of-type {\n",
       "        vertical-align: middle;\n",
       "    }\n",
       "\n",
       "    .dataframe tbody tr th {\n",
       "        vertical-align: top;\n",
       "    }\n",
       "\n",
       "    .dataframe thead th {\n",
       "        text-align: right;\n",
       "    }\n",
       "</style>\n",
       "<table border=\"1\" class=\"dataframe\">\n",
       "  <thead>\n",
       "    <tr style=\"text-align: right;\">\n",
       "      <th>Name</th>\n",
       "      <th>Histological_Subtype</th>\n",
       "      <th>Method_of_Pathologic_Diagnosis</th>\n",
       "      <th>Tumor_Stage_Ovary_FIGO</th>\n",
       "      <th>Tumor_Grade</th>\n",
       "      <th>Tumor_Status</th>\n",
       "      <th>Review_Of_Initial_Pathological_Findings</th>\n",
       "      <th>Pathology_Review_Consistent_With_Diagnosis</th>\n",
       "    </tr>\n",
       "    <tr>\n",
       "      <th>Patient_ID</th>\n",
       "      <th></th>\n",
       "      <th></th>\n",
       "      <th></th>\n",
       "      <th></th>\n",
       "      <th></th>\n",
       "      <th></th>\n",
       "      <th></th>\n",
       "    </tr>\n",
       "  </thead>\n",
       "  <tbody>\n",
       "    <tr>\n",
       "      <th>01OV002</th>\n",
       "      <td>Serous Adenocarcinoma</td>\n",
       "      <td>Tumor resection</td>\n",
       "      <td>IIIC</td>\n",
       "      <td>G3</td>\n",
       "      <td>Tumor free</td>\n",
       "      <td>Yes</td>\n",
       "      <td>Yes</td>\n",
       "    </tr>\n",
       "    <tr>\n",
       "      <th>01OV007</th>\n",
       "      <td>Serous Adenocarcinoma</td>\n",
       "      <td>Tumor resection</td>\n",
       "      <td>IV</td>\n",
       "      <td>G3</td>\n",
       "      <td>Tumor free</td>\n",
       "      <td>Yes</td>\n",
       "      <td>Yes</td>\n",
       "    </tr>\n",
       "    <tr>\n",
       "      <th>01OV008</th>\n",
       "      <td>Serous Adenocarcinoma</td>\n",
       "      <td>Tumor resection</td>\n",
       "      <td>IIIC</td>\n",
       "      <td>G3</td>\n",
       "      <td>Tumor free</td>\n",
       "      <td>Yes</td>\n",
       "      <td>Yes</td>\n",
       "    </tr>\n",
       "    <tr>\n",
       "      <th>01OV010</th>\n",
       "      <td>Serous Adenocarcinoma</td>\n",
       "      <td>Tumor resection</td>\n",
       "      <td>IIIC</td>\n",
       "      <td>G3</td>\n",
       "      <td>Not Reported/Unknown</td>\n",
       "      <td>Yes</td>\n",
       "      <td>Yes</td>\n",
       "    </tr>\n",
       "    <tr>\n",
       "      <th>01OV013</th>\n",
       "      <td>Serous Adenocarcinoma</td>\n",
       "      <td>Tumor resection</td>\n",
       "      <td>IIIC</td>\n",
       "      <td>G3</td>\n",
       "      <td>Tumor free</td>\n",
       "      <td>Yes</td>\n",
       "      <td>Yes</td>\n",
       "    </tr>\n",
       "    <tr>\n",
       "      <th>...</th>\n",
       "      <td>...</td>\n",
       "      <td>...</td>\n",
       "      <td>...</td>\n",
       "      <td>...</td>\n",
       "      <td>...</td>\n",
       "      <td>...</td>\n",
       "      <td>...</td>\n",
       "    </tr>\n",
       "    <tr>\n",
       "      <th>17OV001.N</th>\n",
       "      <td>NaN</td>\n",
       "      <td>NaN</td>\n",
       "      <td>NaN</td>\n",
       "      <td>NaN</td>\n",
       "      <td>NaN</td>\n",
       "      <td>NaN</td>\n",
       "      <td>NaN</td>\n",
       "    </tr>\n",
       "    <tr>\n",
       "      <th>17OV002.N</th>\n",
       "      <td>NaN</td>\n",
       "      <td>NaN</td>\n",
       "      <td>NaN</td>\n",
       "      <td>NaN</td>\n",
       "      <td>NaN</td>\n",
       "      <td>NaN</td>\n",
       "      <td>NaN</td>\n",
       "    </tr>\n",
       "    <tr>\n",
       "      <th>17OV003.N</th>\n",
       "      <td>NaN</td>\n",
       "      <td>NaN</td>\n",
       "      <td>NaN</td>\n",
       "      <td>NaN</td>\n",
       "      <td>NaN</td>\n",
       "      <td>NaN</td>\n",
       "      <td>NaN</td>\n",
       "    </tr>\n",
       "    <tr>\n",
       "      <th>17OV004.N</th>\n",
       "      <td>NaN</td>\n",
       "      <td>NaN</td>\n",
       "      <td>NaN</td>\n",
       "      <td>NaN</td>\n",
       "      <td>NaN</td>\n",
       "      <td>NaN</td>\n",
       "      <td>NaN</td>\n",
       "    </tr>\n",
       "    <tr>\n",
       "      <th>17OV005.N</th>\n",
       "      <td>NaN</td>\n",
       "      <td>NaN</td>\n",
       "      <td>NaN</td>\n",
       "      <td>NaN</td>\n",
       "      <td>NaN</td>\n",
       "      <td>NaN</td>\n",
       "      <td>NaN</td>\n",
       "    </tr>\n",
       "  </tbody>\n",
       "</table>\n",
       "<p>131 rows × 7 columns</p>\n",
       "</div>"
      ],
      "text/plain": [
       "Name         Histological_Subtype Method_of_Pathologic_Diagnosis  \\\n",
       "Patient_ID                                                         \n",
       "01OV002     Serous Adenocarcinoma                Tumor resection   \n",
       "01OV007     Serous Adenocarcinoma                Tumor resection   \n",
       "01OV008     Serous Adenocarcinoma                Tumor resection   \n",
       "01OV010     Serous Adenocarcinoma                Tumor resection   \n",
       "01OV013     Serous Adenocarcinoma                Tumor resection   \n",
       "...                           ...                            ...   \n",
       "17OV001.N                     NaN                            NaN   \n",
       "17OV002.N                     NaN                            NaN   \n",
       "17OV003.N                     NaN                            NaN   \n",
       "17OV004.N                     NaN                            NaN   \n",
       "17OV005.N                     NaN                            NaN   \n",
       "\n",
       "Name       Tumor_Stage_Ovary_FIGO Tumor_Grade          Tumor_Status  \\\n",
       "Patient_ID                                                            \n",
       "01OV002                      IIIC          G3            Tumor free   \n",
       "01OV007                        IV          G3            Tumor free   \n",
       "01OV008                      IIIC          G3            Tumor free   \n",
       "01OV010                      IIIC          G3  Not Reported/Unknown   \n",
       "01OV013                      IIIC          G3            Tumor free   \n",
       "...                           ...         ...                   ...   \n",
       "17OV001.N                     NaN         NaN                   NaN   \n",
       "17OV002.N                     NaN         NaN                   NaN   \n",
       "17OV003.N                     NaN         NaN                   NaN   \n",
       "17OV004.N                     NaN         NaN                   NaN   \n",
       "17OV005.N                     NaN         NaN                   NaN   \n",
       "\n",
       "Name       Review_Of_Initial_Pathological_Findings  \\\n",
       "Patient_ID                                           \n",
       "01OV002                                        Yes   \n",
       "01OV007                                        Yes   \n",
       "01OV008                                        Yes   \n",
       "01OV010                                        Yes   \n",
       "01OV013                                        Yes   \n",
       "...                                            ...   \n",
       "17OV001.N                                      NaN   \n",
       "17OV002.N                                      NaN   \n",
       "17OV003.N                                      NaN   \n",
       "17OV004.N                                      NaN   \n",
       "17OV005.N                                      NaN   \n",
       "\n",
       "Name       Pathology_Review_Consistent_With_Diagnosis  \n",
       "Patient_ID                                             \n",
       "01OV002                                           Yes  \n",
       "01OV007                                           Yes  \n",
       "01OV008                                           Yes  \n",
       "01OV010                                           Yes  \n",
       "01OV013                                           Yes  \n",
       "...                                               ...  \n",
       "17OV001.N                                         NaN  \n",
       "17OV002.N                                         NaN  \n",
       "17OV003.N                                         NaN  \n",
       "17OV004.N                                         NaN  \n",
       "17OV005.N                                         NaN  \n",
       "\n",
       "[131 rows x 7 columns]"
      ]
     },
     "execution_count": 37,
     "metadata": {},
     "output_type": "execute_result"
    }
   ],
   "source": [
    "#MAKE NEW DF WE WILL FEED THE MODEL\n",
    "#copy genes from proteomic df\n",
    "newdf= proteins_masked.loc[: , LIST]\n",
    "\n",
    "#in_proteins_df and in_rna_df\n",
    "for i in range\n"
   ]
  },
  {
   "cell_type": "code",
   "execution_count": 150,
   "id": "2384046b",
   "metadata": {},
   "outputs": [
    {
     "ename": "NameError",
     "evalue": "name 'LIST' is not defined",
     "output_type": "error",
     "traceback": [
      "\u001b[0;31m---------------------------------------------------------------------------\u001b[0m",
      "\u001b[0;31mNameError\u001b[0m                                 Traceback (most recent call last)",
      "Cell \u001b[0;32mIn[150], line 2\u001b[0m\n\u001b[1;32m      1\u001b[0m \u001b[38;5;66;03m#MAKE NEW DF W JUST COLUMNS FOR GENES WE WANT\u001b[39;00m\n\u001b[0;32m----> 2\u001b[0m newdf\u001b[38;5;241m=\u001b[39m proteins_masked\u001b[38;5;241m.\u001b[39mloc[: , LIST]\n\u001b[1;32m      4\u001b[0m \u001b[38;5;66;03m#NOT DON\u001b[39;00m\n\u001b[1;32m      5\u001b[0m scaler \u001b[38;5;241m=\u001b[39m StandardScaler()\n",
      "\u001b[0;31mNameError\u001b[0m: name 'LIST' is not defined"
     ]
    }
   ],
   "source": [
    "\n",
    "#NOT DON\n",
    "scaler = StandardScaler()\n",
    "scaled_data = scaler.fit_transform(proteins_masked)\n",
    "\n",
    "#WHAT DO WE DO WITH IMPUTTING VALUES FOR 1 GENE LETS SAY"
   ]
  },
  {
   "cell_type": "markdown",
   "id": "9359dc0d",
   "metadata": {},
   "source": [
    "# Dimension reduction"
   ]
  },
  {
   "cell_type": "code",
   "execution_count": 151,
   "id": "42d11a29",
   "metadata": {},
   "outputs": [],
   "source": [
    "#DIMENSION REDUCTION\n",
    "from sklearn.decomposition import PCA\n",
    "from sklearn.manifold import TSNE\n",
    "from umap import UMAP\n",
    "from sklearn.cluster import KMeans\n",
    "from yellowbrick.cluster import KElbowVisualizer\n",
    "from hdbscan import HDBSCAN\n",
    "from matplotlib import colormaps"
   ]
  },
  {
   "cell_type": "code",
   "execution_count": 155,
   "id": "2822c39a",
   "metadata": {},
   "outputs": [
    {
     "ename": "NameError",
     "evalue": "name 'StandardScaler' is not defined",
     "output_type": "error",
     "traceback": [
      "\u001b[0;31m---------------------------------------------------------------------------\u001b[0m",
      "\u001b[0;31mNameError\u001b[0m                                 Traceback (most recent call last)",
      "Cell \u001b[0;32mIn[155], line 7\u001b[0m\n\u001b[1;32m      1\u001b[0m \u001b[38;5;66;03m#Dimension reduction analysis\u001b[39;00m\n\u001b[1;32m      2\u001b[0m \u001b[38;5;66;03m#Evaluate performance of different dimension reduction approaches for our model.\u001b[39;00m\n\u001b[1;32m      3\u001b[0m \u001b[38;5;66;03m#Based on this, we can see that UMAP is probably the best dimension reducer to use for our model \u001b[39;00m\n\u001b[1;32m      4\u001b[0m \u001b[38;5;66;03m#UMAP reduces the data and clusters are more visible than in others. It also shows linear trend that could be helpful in clustering \u001b[39;00m\n\u001b[1;32m      5\u001b[0m plt\u001b[38;5;241m.\u001b[39mrcParams[\u001b[38;5;124m'\u001b[39m\u001b[38;5;124mfigure.figsize\u001b[39m\u001b[38;5;124m'\u001b[39m] \u001b[38;5;241m=\u001b[39m [\u001b[38;5;241m12\u001b[39m, \u001b[38;5;241m5\u001b[39m]\n\u001b[0;32m----> 7\u001b[0m scaler \u001b[38;5;241m=\u001b[39m StandardScaler()\n\u001b[1;32m      8\u001b[0m scaled_data \u001b[38;5;241m=\u001b[39m scaler\u001b[38;5;241m.\u001b[39mfit_transform(proteins_masked)\n\u001b[1;32m     10\u001b[0m reducers \u001b[38;5;241m=\u001b[39m [PCA(), TSNE(), UMAP()]\n",
      "\u001b[0;31mNameError\u001b[0m: name 'StandardScaler' is not defined"
     ]
    }
   ],
   "source": [
    "#Dimension reduction analysis\n",
    "#Evaluate performance of different dimension reduction approaches for our model.\n",
    "#Based on this, we can see that UMAP is probably the best dimension reducer to use for our model \n",
    "#UMAP reduces the data and clusters are more visible than in others. It also shows linear trend that could be helpful in clustering \n",
    "plt.rcParams['figure.figsize'] = [12, 5]\n",
    "\n",
    "scaler = StandardScaler()\n",
    "scaled_data = scaler.fit_transform(proteins_masked)\n",
    "\n",
    "reducers = [PCA(), TSNE(), UMAP()]\n",
    "reducers_names = ['PCA', 't-SNE', 'UMAP']\n",
    "\n",
    "fig, axs = plt.subplots(1, 3, constrained_layout=True)\n",
    "\n",
    "for i in range(3):\n",
    "    embedding = reducers[i].fit_transform(scaled_data)\n",
    "    x_vals = embedding[:, 0]\n",
    "    y_vals = embedding[:, 1]\n",
    "    axs[i].scatter(x_vals, y_vals, alpha=0.5)\n",
    "    axs[i].set_title(reducers_names[i])\n",
    "    "
   ]
  },
  {
   "cell_type": "code",
   "execution_count": 153,
   "id": "6e37fbbf",
   "metadata": {},
   "outputs": [],
   "source": [
    "reducer= UMAP()"
   ]
  },
  {
   "cell_type": "markdown",
   "id": "3151ebde",
   "metadata": {},
   "source": [
    "# KMeans clustering model"
   ]
  },
  {
   "cell_type": "code",
   "execution_count": 154,
   "id": "e52c0a53",
   "metadata": {},
   "outputs": [
    {
     "ename": "NameError",
     "evalue": "name 'scaled_data' is not defined",
     "output_type": "error",
     "traceback": [
      "\u001b[0;31m---------------------------------------------------------------------------\u001b[0m",
      "\u001b[0;31mNameError\u001b[0m                                 Traceback (most recent call last)",
      "Cell \u001b[0;32mIn[154], line 1\u001b[0m\n\u001b[0;32m----> 1\u001b[0m embedding \u001b[38;5;241m=\u001b[39m reducer\u001b[38;5;241m.\u001b[39mfit_transform(scaled_data)\n\u001b[1;32m      2\u001b[0m x_vals \u001b[38;5;241m=\u001b[39m embedding[:, \u001b[38;5;241m0\u001b[39m]\n\u001b[1;32m      3\u001b[0m y_vals \u001b[38;5;241m=\u001b[39m embedding[:, \u001b[38;5;241m1\u001b[39m]\n",
      "\u001b[0;31mNameError\u001b[0m: name 'scaled_data' is not defined"
     ]
    }
   ],
   "source": [
    "embedding = reducer.fit_transform(scaled_data)\n",
    "x_vals = embedding[:, 0]\n",
    "y_vals = embedding[:, 1]\n",
    "\n",
    "cluster_model = KMeans()\n",
    "\n",
    "labels = cluster_model.fit_predict(embedding)\n",
    "plt.scatter(x_vals, y_vals, c=labels, cmap='nipy_spectral', alpha=0.5)"
   ]
  },
  {
   "cell_type": "markdown",
   "id": "de64fdb6",
   "metadata": {},
   "source": [
    "# HDBSCAN clustering model"
   ]
  },
  {
   "cell_type": "code",
   "execution_count": 158,
   "id": "1d6be41b",
   "metadata": {},
   "outputs": [
    {
     "ename": "NameError",
     "evalue": "name 'StandardScaler' is not defined",
     "output_type": "error",
     "traceback": [
      "\u001b[0;31m---------------------------------------------------------------------------\u001b[0m",
      "\u001b[0;31mNameError\u001b[0m                                 Traceback (most recent call last)",
      "Cell \u001b[0;32mIn[158], line 4\u001b[0m\n\u001b[1;32m      1\u001b[0m \u001b[38;5;66;03m#CLUSTERING MODEL USING HDBSCAN \u001b[39;00m\n\u001b[1;32m      2\u001b[0m plt\u001b[38;5;241m.\u001b[39mrcParams[\u001b[38;5;124m'\u001b[39m\u001b[38;5;124mfigure.figsize\u001b[39m\u001b[38;5;124m'\u001b[39m] \u001b[38;5;241m=\u001b[39m [\u001b[38;5;241m12\u001b[39m, \u001b[38;5;241m5\u001b[39m]\n\u001b[0;32m----> 4\u001b[0m scaler \u001b[38;5;241m=\u001b[39m StandardScaler()\n\u001b[1;32m      5\u001b[0m scaled_data \u001b[38;5;241m=\u001b[39m scaler\u001b[38;5;241m.\u001b[39mfit_transform(proteins_masked)\n\u001b[1;32m      7\u001b[0m model \u001b[38;5;241m=\u001b[39m HDBSCAN()\n",
      "\u001b[0;31mNameError\u001b[0m: name 'StandardScaler' is not defined"
     ]
    }
   ],
   "source": [
    "#CLUSTERING MODEL USING HDBSCAN \n",
    "plt.rcParams['figure.figsize'] = [12, 5]\n",
    "\n",
    "scaler = StandardScaler()\n",
    "scaled_data = scaler.fit_transform(proteins_masked)\n",
    "\n",
    "model = HDBSCAN()\n",
    "\n",
    "reducers = [\n",
    "    PCA(),\n",
    "    TSNE(),\n",
    "    UMAP()\n",
    "]\n",
    "reducers_names = ['PCA', 't-SNE', 'UMAP']\n",
    "\n",
    "fig, axs = plt.subplots(1, 3, constrained_layout=True)\n",
    "\n",
    "    \n",
    "for i in range(3):\n",
    "    embedding = reducers[i].fit_transform(scaled_data)\n",
    "    x_vals = embedding[:, 0]\n",
    "    y_vals = embedding[:, 1]\n",
    "    labels = cluster_model.fit_predict(embedding)\n",
    "    axs[i].scatter(x_vals, y_vals, c=labels, cmap='nipy_spectral', alpha=0.5)\n",
    "    axs[i].set_title(reducers_names[i])\n",
    "\n"
   ]
  },
  {
   "cell_type": "code",
   "execution_count": null,
   "id": "dfe1e772",
   "metadata": {},
   "outputs": [],
   "source": [
    "#ASSESSING MODELS"
   ]
  }
 ],
 "metadata": {
  "kernelspec": {
   "display_name": "Python 3 (ipykernel)",
   "language": "python",
   "name": "python3"
  },
  "language_info": {
   "codemirror_mode": {
    "name": "ipython",
    "version": 3
   },
   "file_extension": ".py",
   "mimetype": "text/x-python",
   "name": "python",
   "nbconvert_exporter": "python",
   "pygments_lexer": "ipython3",
   "version": "3.11.4"
  }
 },
 "nbformat": 4,
 "nbformat_minor": 5
}
