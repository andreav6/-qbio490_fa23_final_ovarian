{
 "cells": [
  {
   "cell_type": "markdown",
   "id": "fd51a416",
   "metadata": {},
   "source": [
    "# Importing packages and loading data"
   ]
  },
  {
   "cell_type": "code",
   "execution_count": 119,
   "id": "f9de99cf",
   "metadata": {},
   "outputs": [
    {
     "name": "stdout",
     "output_type": "stream",
     "text": [
      "                                            \r"
     ]
    },
    {
     "data": {
      "text/plain": [
       "True"
      ]
     },
     "execution_count": 119,
     "metadata": {},
     "output_type": "execute_result"
    }
   ],
   "source": [
    "#LOAD AND IMPORT PACKAGES AND DATA\n",
    "import numpy as np\n",
    "import pandas as pd\n",
    "import matplotlib.pyplot as plt\n",
    "import seaborn as sns\n",
    "import cptac\n",
    "import os\n",
    "\n",
    "os.chdir('/Users/andreavelazquez/Desktop/School stuff/QBIO490/qbio_490_AndreaV/analysis_data')\n",
    "cptac.download('Ovarian')"
   ]
  },
  {
   "cell_type": "code",
   "execution_count": 146,
   "id": "0f1d576b",
   "metadata": {},
   "outputs": [
    {
     "name": "stdout",
     "output_type": "stream",
     "text": [
      "                                            \r"
     ]
    }
   ],
   "source": [
    "#PULL DATA\n",
    "#clinical data\n",
    "ov= cptac.Ovarian()\n",
    "clinical_data= ov.get_clinical()\n",
    "\n",
    "#protein data\n",
    "protein_data= ov.get_proteomics()\n",
    "protein_data.columns = protein_data.columns.get_level_values(0) \n",
    "\n",
    "#transcriptomic data\n",
    "rna_data= ov.get_transcriptomics()"
   ]
  },
  {
   "cell_type": "markdown",
   "id": "6e7c9f67",
   "metadata": {},
   "source": [
    "# Data preprocessing"
   ]
  },
  {
   "cell_type": "code",
   "execution_count": 147,
   "id": "7b8893ad",
   "metadata": {},
   "outputs": [],
   "source": [
    "#CLEANUP\n",
    "#Change NaN values to 0 so we can get rid of them\n",
    "rna_data = rna_data.replace(0, np.nan)\n",
    "gene_na_mask = rna_data.isna().sum() == 0\n",
    "rna_masked = rna_data.loc[:, gene_na_mask]\n",
    "#logscale\n",
    "rna_masked= np.log2(rna_masked)\n",
    "\n",
    "#Cleanup proteins w no values in there\n",
    "protein_na_mask = protein_data.isna().sum() == 0\n",
    "proteins_masked = protein_data.loc[:, protein_na_mask]\n"
   ]
  },
  {
   "cell_type": "markdown",
   "id": "e87b01bb",
   "metadata": {},
   "source": [
    "# Consolidating gene list"
   ]
  },
  {
   "cell_type": "code",
   "execution_count": 123,
   "id": "f0329404",
   "metadata": {},
   "outputs": [],
   "source": [
    "#GENE LIST FROM EXPLORATORY DATA ANALYSIS WITH TCGA DATA IN R\n",
    "top53_R= ['TP53', 'TTN', 'CSMD3', 'USH2A', 'NF1', 'RYR2', \n",
    "          'MUC16', 'HMCN1', 'FAT3', 'FLG2', 'MACF1', 'SI', \n",
    "          'AHNAK', 'MUC17', 'APOB', 'FLG', 'DNAH3', 'LRP1B', \n",
    "          'CDK12', 'DST', 'DNAH5', 'LRP1', 'BRCA1', 'SYNE2', \n",
    "          'FCGBP', 'SYNE1', 'TG', 'TOP2A', 'DNAH10', 'RB1',\n",
    "          'RELN', 'COL6A3', 'DNAH8', 'MDN1', 'ADGRV1', 'HUWE1', \n",
    "          'MYH4', 'KMT2C', 'TENM1', 'TACC2', 'DYNC1H1', 'PKHD1', \n",
    "          'NEB', 'RYR1', 'LRP2', 'CSMD1', 'DMD', 'IGSF10', \n",
    "          'LRRK2', 'ZFHX4', 'MYH1', 'KMT2A', 'VPS13B' ]"
   ]
  },
  {
   "cell_type": "code",
   "execution_count": 124,
   "id": "561dc408",
   "metadata": {},
   "outputs": [],
   "source": [
    "#GENE LIST FROM LITERATURE REVIEW\n",
    "lit_genes= ['CLDN3', 'CLDN4', 'HE4', 'CRIP1', 'APOE', \n",
    "            'APOJ', 'HLA-DRA', 'HLA-DRB', 'MUC1', 'BCAM', \n",
    "            'BUB1B', 'BUB1', 'TTK', 'CCNB1', 'BRCA1', \n",
    "            'BRCA2', 'CSMD3', 'MUCI16', 'APOB', 'DST', \n",
    "            'FAT3', 'HMCN1', 'RYR1','TP53','TTN', \n",
    "            'USH2A', 'AKT1', 'ARID1A', 'FBXW7', 'FGFR2', \n",
    "            'JAK1', 'KRAS', 'MLH1', 'MSH2', 'MSH6', \n",
    "            'NRAS', 'PIK3CA', 'PIK3R1', 'PIK3R2', 'PMS2', \n",
    "            'POLE', 'PPP2R1A', 'PTEN', 'RNF43', 'RPL22', \n",
    "            'SMARCA4', 'STK11', 'SPOP', 'FOXL2', 'CTNNB1', \n",
    "            'BRAF']"
   ]
  },
  {
   "cell_type": "code",
   "execution_count": 159,
   "id": "2dedd9a7",
   "metadata": {},
   "outputs": [
    {
     "name": "stdout",
     "output_type": "stream",
     "text": [
      "CLDN3  added to new list\n",
      "CLDN4  added to new list\n",
      "HE4  added to new list\n",
      "CRIP1  added to new list\n",
      "APOE  added to new list\n",
      "APOJ  added to new list\n",
      "HLA-DRA  added to new list\n",
      "HLA-DRB  added to new list\n",
      "MUC1  added to new list\n",
      "BCAM  added to new list\n",
      "BUB1B  added to new list\n",
      "BUB1  added to new list\n",
      "TTK  added to new list\n",
      "CCNB1  added to new list\n",
      "BRCA2  added to new list\n",
      "MUCI16  added to new list\n",
      "AKT1  added to new list\n",
      "ARID1A  added to new list\n",
      "FBXW7  added to new list\n",
      "FGFR2  added to new list\n",
      "JAK1  added to new list\n",
      "KRAS  added to new list\n",
      "MLH1  added to new list\n",
      "MSH2  added to new list\n",
      "MSH6  added to new list\n",
      "NRAS  added to new list\n",
      "PIK3CA  added to new list\n",
      "PIK3R1  added to new list\n",
      "PIK3R2  added to new list\n",
      "PMS2  added to new list\n",
      "POLE  added to new list\n",
      "PPP2R1A  added to new list\n",
      "PTEN  added to new list\n",
      "RNF43  added to new list\n",
      "RPL22  added to new list\n",
      "SMARCA4  added to new list\n",
      "STK11  added to new list\n",
      "SPOP  added to new list\n",
      "FOXL2  added to new list\n",
      "CTNNB1  added to new list\n",
      "BRAF  added to new list\n"
     ]
    }
   ],
   "source": [
    "#Combine both lists into one without duplicates\n",
    "final_list= helper(top53_R, lit_genes)"
   ]
  },
  {
   "cell_type": "code",
   "execution_count": 163,
   "id": "ed5d86b4",
   "metadata": {},
   "outputs": [
    {
     "name": "stdout",
     "output_type": "stream",
     "text": [
      "CSMD3  is not in the df\n",
      "USH2A  is not in the df\n",
      "RYR2  is not in the df\n",
      "FAT3  is not in the df\n",
      "FLG2  is not in the df\n",
      "SI  is not in the df\n",
      "MUC17  is not in the df\n",
      "FLG  is not in the df\n",
      "DNAH3  is not in the df\n",
      "DNAH5  is not in the df\n",
      "BRCA1  is not in the df\n",
      "TG  is not in the df\n",
      "DNAH10  is not in the df\n",
      "RELN  is not in the df\n",
      "DNAH8  is not in the df\n",
      "ADGRV1  is not in the df\n",
      "KMT2C  is not in the df\n",
      "TENM1  is not in the df\n",
      "PKHD1  is not in the df\n",
      "RYR1  is not in the df\n",
      "LRP2  is not in the df\n",
      "CSMD1  is not in the df\n",
      "IGSF10  is not in the df\n",
      "LRRK2  is not in the df\n",
      "ZFHX4  is not in the df\n",
      "HE4  is not in the df\n",
      "APOJ  is not in the df\n",
      "HLA-DRB  is not in the df\n",
      "BUB1B  is not in the df\n",
      "BUB1  is not in the df\n",
      "BRCA2  is not in the df\n",
      "MUCI16  is not in the df\n",
      "FBXW7  is not in the df\n",
      "PMS2  is not in the df\n",
      "POLE  is not in the df\n",
      "RNF43  is not in the df\n",
      "SPOP  is not in the df\n",
      "FOXL2  is not in the df\n",
      "CSMD3  is not in the df\n",
      "USH2A  is not in the df\n",
      "FAT3  is not in the df\n",
      "FLG2  is not in the df\n",
      "SI  is not in the df\n",
      "MUC17  is not in the df\n",
      "FLG  is not in the df\n",
      "DNAH3  is not in the df\n",
      "DNAH5  is not in the df\n",
      "BRCA1  is not in the df\n",
      "TG  is not in the df\n",
      "DNAH10  is not in the df\n",
      "RELN  is not in the df\n",
      "DNAH8  is not in the df\n",
      "ADGRV1  is not in the df\n",
      "TENM1  is not in the df\n",
      "PKHD1  is not in the df\n",
      "RYR1  is not in the df\n",
      "CSMD1  is not in the df\n",
      "IGSF10  is not in the df\n",
      "HE4  is not in the df\n",
      "APOJ  is not in the df\n",
      "HLA-DRB  is not in the df\n",
      "BUB1B  is not in the df\n",
      "BUB1  is not in the df\n",
      "BRCA2  is not in the df\n",
      "MUCI16  is not in the df\n",
      "PMS2  is not in the df\n",
      "RNF43  is not in the df\n",
      "SPOP  is not in the df\n",
      "FOXL2  is not in the df\n"
     ]
    },
    {
     "data": {
      "text/plain": [
       "[['RYR2', 'KMT2C', 'LRP2', 'LRRK2', 'ZFHX4', 'FBXW7', 'POLE'],\n",
       " ['CSMD3',\n",
       "  'USH2A',\n",
       "  'FAT3',\n",
       "  'FLG2',\n",
       "  'SI',\n",
       "  'MUC17',\n",
       "  'FLG',\n",
       "  'DNAH3',\n",
       "  'DNAH5',\n",
       "  'BRCA1',\n",
       "  'TG',\n",
       "  'DNAH10',\n",
       "  'RELN',\n",
       "  'DNAH8',\n",
       "  'ADGRV1',\n",
       "  'TENM1',\n",
       "  'PKHD1',\n",
       "  'RYR1',\n",
       "  'CSMD1',\n",
       "  'IGSF10',\n",
       "  'HE4',\n",
       "  'APOJ',\n",
       "  'HLA-DRB',\n",
       "  'BUB1B',\n",
       "  'BUB1',\n",
       "  'BRCA2',\n",
       "  'MUCI16',\n",
       "  'PMS2',\n",
       "  'RNF43',\n",
       "  'SPOP',\n",
       "  'FOXL2']]"
      ]
     },
     "execution_count": 163,
     "metadata": {},
     "output_type": "execute_result"
    }
   ],
   "source": [
    "#CHECK WE HAVE INFO FOR THOSE GENES/ARE IN DF\n",
    "#1st element=is in df, 1nd element, not in df\n",
    "in_proteins_df= inDF(final_list, proteins_masked)\n",
    "not_in_proteins= in_proteins_df[1].copy()\n",
    "\n",
    "#search for the remaining ones in rna df\n",
    "in_rna_df= inDF(not_in_proteins, rna_masked)\n",
    "in_rna_df"
   ]
  },
  {
   "cell_type": "code",
   "execution_count": 139,
   "id": "dfe2142d",
   "metadata": {},
   "outputs": [],
   "source": [
    "#ENSURE WE HAVE DATA FOR ALL\n",
    "def inDF(genes, df):\n",
    "    results=[]\n",
    "    final=[]\n",
    "    noinfo=[]\n",
    "    \n",
    "    for i in range(len(genes)):\n",
    "        \n",
    "        exists= genes[i] in df.columns\n",
    "        \n",
    "        if exists == 0:\n",
    "            print(genes[i], \" is not in the df\")\n",
    "            noinfo.append(genes[i])\n",
    "        else:\n",
    "            final.append(genes[i])\n",
    "    \n",
    "    results.append(final)\n",
    "    results.append(noinfo)\n",
    "    \n",
    "    return results"
   ]
  },
  {
   "cell_type": "code",
   "execution_count": 149,
   "id": "068e7522",
   "metadata": {},
   "outputs": [],
   "source": [
    "#list2= smaller list!\n",
    "def helper(list1, list2):\n",
    "    newlist= list1.copy()\n",
    "    \n",
    "    for i in range(len(list2)):\n",
    "        exist= newlist.count(list2[i])\n",
    "        \n",
    "        if exist!=0:\n",
    "            continue\n",
    "        \n",
    "        print(list2[i], \" added to new list\")\n",
    "        newlist.append(list2[i])\n",
    "    \n",
    "    return newlist"
   ]
  },
  {
   "cell_type": "markdown",
   "id": "73e3aba4",
   "metadata": {},
   "source": [
    "# Making new df w/ genes we will use in our model"
   ]
  },
  {
   "cell_type": "code",
   "execution_count": 150,
   "id": "2384046b",
   "metadata": {},
   "outputs": [
    {
     "ename": "NameError",
     "evalue": "name 'LIST' is not defined",
     "output_type": "error",
     "traceback": [
      "\u001b[0;31m---------------------------------------------------------------------------\u001b[0m",
      "\u001b[0;31mNameError\u001b[0m                                 Traceback (most recent call last)",
      "Cell \u001b[0;32mIn[150], line 2\u001b[0m\n\u001b[1;32m      1\u001b[0m \u001b[38;5;66;03m#MAKE NEW DF W JUST COLUMNS FOR GENES WE WANT\u001b[39;00m\n\u001b[0;32m----> 2\u001b[0m newdf\u001b[38;5;241m=\u001b[39m proteins_masked\u001b[38;5;241m.\u001b[39mloc[: , LIST]\n\u001b[1;32m      4\u001b[0m \u001b[38;5;66;03m#NOT DON\u001b[39;00m\n\u001b[1;32m      5\u001b[0m scaler \u001b[38;5;241m=\u001b[39m StandardScaler()\n",
      "\u001b[0;31mNameError\u001b[0m: name 'LIST' is not defined"
     ]
    }
   ],
   "source": [
    "#MAKE NEW DF W JUST COLUMNS FOR GENES WE WANT\n",
    "newdf= proteins_masked.loc[: , LIST]\n",
    "\n",
    "#NOT DON\n",
    "scaler = StandardScaler()\n",
    "scaled_data = scaler.fit_transform(proteins_masked)\n",
    "\n",
    "#WHAT DO WE DO WITH IMPUTTING VALUES FOR 1 GENE LETS SAY"
   ]
  },
  {
   "cell_type": "markdown",
   "id": "9359dc0d",
   "metadata": {},
   "source": [
    "# Dimension reduction"
   ]
  },
  {
   "cell_type": "code",
   "execution_count": 151,
   "id": "42d11a29",
   "metadata": {},
   "outputs": [],
   "source": [
    "#DIMENSION REDUCTION\n",
    "from sklearn.decomposition import PCA\n",
    "from sklearn.manifold import TSNE\n",
    "from umap import UMAP\n",
    "from sklearn.cluster import KMeans\n",
    "from yellowbrick.cluster import KElbowVisualizer\n",
    "from hdbscan import HDBSCAN\n",
    "from matplotlib import colormaps"
   ]
  },
  {
   "cell_type": "code",
   "execution_count": 155,
   "id": "2822c39a",
   "metadata": {},
   "outputs": [
    {
     "ename": "NameError",
     "evalue": "name 'StandardScaler' is not defined",
     "output_type": "error",
     "traceback": [
      "\u001b[0;31m---------------------------------------------------------------------------\u001b[0m",
      "\u001b[0;31mNameError\u001b[0m                                 Traceback (most recent call last)",
      "Cell \u001b[0;32mIn[155], line 7\u001b[0m\n\u001b[1;32m      1\u001b[0m \u001b[38;5;66;03m#Dimension reduction analysis\u001b[39;00m\n\u001b[1;32m      2\u001b[0m \u001b[38;5;66;03m#Evaluate performance of different dimension reduction approaches for our model.\u001b[39;00m\n\u001b[1;32m      3\u001b[0m \u001b[38;5;66;03m#Based on this, we can see that UMAP is probably the best dimension reducer to use for our model \u001b[39;00m\n\u001b[1;32m      4\u001b[0m \u001b[38;5;66;03m#UMAP reduces the data and clusters are more visible than in others. It also shows linear trend that could be helpful in clustering \u001b[39;00m\n\u001b[1;32m      5\u001b[0m plt\u001b[38;5;241m.\u001b[39mrcParams[\u001b[38;5;124m'\u001b[39m\u001b[38;5;124mfigure.figsize\u001b[39m\u001b[38;5;124m'\u001b[39m] \u001b[38;5;241m=\u001b[39m [\u001b[38;5;241m12\u001b[39m, \u001b[38;5;241m5\u001b[39m]\n\u001b[0;32m----> 7\u001b[0m scaler \u001b[38;5;241m=\u001b[39m StandardScaler()\n\u001b[1;32m      8\u001b[0m scaled_data \u001b[38;5;241m=\u001b[39m scaler\u001b[38;5;241m.\u001b[39mfit_transform(proteins_masked)\n\u001b[1;32m     10\u001b[0m reducers \u001b[38;5;241m=\u001b[39m [PCA(), TSNE(), UMAP()]\n",
      "\u001b[0;31mNameError\u001b[0m: name 'StandardScaler' is not defined"
     ]
    }
   ],
   "source": [
    "#Dimension reduction analysis\n",
    "#Evaluate performance of different dimension reduction approaches for our model.\n",
    "#Based on this, we can see that UMAP is probably the best dimension reducer to use for our model \n",
    "#UMAP reduces the data and clusters are more visible than in others. It also shows linear trend that could be helpful in clustering \n",
    "plt.rcParams['figure.figsize'] = [12, 5]\n",
    "\n",
    "scaler = StandardScaler()\n",
    "scaled_data = scaler.fit_transform(proteins_masked)\n",
    "\n",
    "reducers = [PCA(), TSNE(), UMAP()]\n",
    "reducers_names = ['PCA', 't-SNE', 'UMAP']\n",
    "\n",
    "fig, axs = plt.subplots(1, 3, constrained_layout=True)\n",
    "\n",
    "for i in range(3):\n",
    "    embedding = reducers[i].fit_transform(scaled_data)\n",
    "    x_vals = embedding[:, 0]\n",
    "    y_vals = embedding[:, 1]\n",
    "    axs[i].scatter(x_vals, y_vals, alpha=0.5)\n",
    "    axs[i].set_title(reducers_names[i])\n",
    "    "
   ]
  },
  {
   "cell_type": "code",
   "execution_count": 153,
   "id": "6e37fbbf",
   "metadata": {},
   "outputs": [],
   "source": [
    "reducer= UMAP()"
   ]
  },
  {
   "cell_type": "markdown",
   "id": "3151ebde",
   "metadata": {},
   "source": [
    "# KMeans clustering model"
   ]
  },
  {
   "cell_type": "code",
   "execution_count": 154,
   "id": "e52c0a53",
   "metadata": {},
   "outputs": [
    {
     "ename": "NameError",
     "evalue": "name 'scaled_data' is not defined",
     "output_type": "error",
     "traceback": [
      "\u001b[0;31m---------------------------------------------------------------------------\u001b[0m",
      "\u001b[0;31mNameError\u001b[0m                                 Traceback (most recent call last)",
      "Cell \u001b[0;32mIn[154], line 1\u001b[0m\n\u001b[0;32m----> 1\u001b[0m embedding \u001b[38;5;241m=\u001b[39m reducer\u001b[38;5;241m.\u001b[39mfit_transform(scaled_data)\n\u001b[1;32m      2\u001b[0m x_vals \u001b[38;5;241m=\u001b[39m embedding[:, \u001b[38;5;241m0\u001b[39m]\n\u001b[1;32m      3\u001b[0m y_vals \u001b[38;5;241m=\u001b[39m embedding[:, \u001b[38;5;241m1\u001b[39m]\n",
      "\u001b[0;31mNameError\u001b[0m: name 'scaled_data' is not defined"
     ]
    }
   ],
   "source": [
    "embedding = reducer.fit_transform(scaled_data)\n",
    "x_vals = embedding[:, 0]\n",
    "y_vals = embedding[:, 1]\n",
    "\n",
    "cluster_model = KMeans()\n",
    "\n",
    "labels = cluster_model.fit_predict(embedding)\n",
    "plt.scatter(x_vals, y_vals, c=labels, cmap='nipy_spectral', alpha=0.5)"
   ]
  },
  {
   "cell_type": "markdown",
   "id": "de64fdb6",
   "metadata": {},
   "source": [
    "# HDBSCAN clustering model"
   ]
  },
  {
   "cell_type": "code",
   "execution_count": 158,
   "id": "1d6be41b",
   "metadata": {},
   "outputs": [
    {
     "ename": "NameError",
     "evalue": "name 'StandardScaler' is not defined",
     "output_type": "error",
     "traceback": [
      "\u001b[0;31m---------------------------------------------------------------------------\u001b[0m",
      "\u001b[0;31mNameError\u001b[0m                                 Traceback (most recent call last)",
      "Cell \u001b[0;32mIn[158], line 4\u001b[0m\n\u001b[1;32m      1\u001b[0m \u001b[38;5;66;03m#CLUSTERING MODEL USING HDBSCAN \u001b[39;00m\n\u001b[1;32m      2\u001b[0m plt\u001b[38;5;241m.\u001b[39mrcParams[\u001b[38;5;124m'\u001b[39m\u001b[38;5;124mfigure.figsize\u001b[39m\u001b[38;5;124m'\u001b[39m] \u001b[38;5;241m=\u001b[39m [\u001b[38;5;241m12\u001b[39m, \u001b[38;5;241m5\u001b[39m]\n\u001b[0;32m----> 4\u001b[0m scaler \u001b[38;5;241m=\u001b[39m StandardScaler()\n\u001b[1;32m      5\u001b[0m scaled_data \u001b[38;5;241m=\u001b[39m scaler\u001b[38;5;241m.\u001b[39mfit_transform(proteins_masked)\n\u001b[1;32m      7\u001b[0m model \u001b[38;5;241m=\u001b[39m HDBSCAN()\n",
      "\u001b[0;31mNameError\u001b[0m: name 'StandardScaler' is not defined"
     ]
    }
   ],
   "source": [
    "#CLUSTERING MODEL USING HDBSCAN \n",
    "plt.rcParams['figure.figsize'] = [12, 5]\n",
    "\n",
    "scaler = StandardScaler()\n",
    "scaled_data = scaler.fit_transform(proteins_masked)\n",
    "\n",
    "model = HDBSCAN()\n",
    "\n",
    "reducers = [\n",
    "    PCA(),\n",
    "    TSNE(),\n",
    "    UMAP()\n",
    "]\n",
    "reducers_names = ['PCA', 't-SNE', 'UMAP']\n",
    "\n",
    "fig, axs = plt.subplots(1, 3, constrained_layout=True)\n",
    "\n",
    "    \n",
    "for i in range(3):\n",
    "    embedding = reducers[i].fit_transform(scaled_data)\n",
    "    x_vals = embedding[:, 0]\n",
    "    y_vals = embedding[:, 1]\n",
    "    labels = cluster_model.fit_predict(embedding)\n",
    "    axs[i].scatter(x_vals, y_vals, c=labels, cmap='nipy_spectral', alpha=0.5)\n",
    "    axs[i].set_title(reducers_names[i])\n",
    "\n"
   ]
  },
  {
   "cell_type": "code",
   "execution_count": null,
   "id": "dfe1e772",
   "metadata": {},
   "outputs": [],
   "source": [
    "#ASSESSING MODELS"
   ]
  }
 ],
 "metadata": {
  "kernelspec": {
   "display_name": "Python 3 (ipykernel)",
   "language": "python",
   "name": "python3"
  },
  "language_info": {
   "codemirror_mode": {
    "name": "ipython",
    "version": 3
   },
   "file_extension": ".py",
   "mimetype": "text/x-python",
   "name": "python",
   "nbconvert_exporter": "python",
   "pygments_lexer": "ipython3",
   "version": "3.11.4"
  }
 },
 "nbformat": 4,
 "nbformat_minor": 5
}
